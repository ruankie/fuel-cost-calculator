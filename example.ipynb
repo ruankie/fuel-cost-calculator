{
 "cells": [
  {
   "cell_type": "code",
   "execution_count": 1,
   "metadata": {},
   "outputs": [],
   "source": [
    "from calculator import FuelCostCalculator"
   ]
  },
  {
   "cell_type": "code",
   "execution_count": 2,
   "metadata": {},
   "outputs": [],
   "source": [
    "calc = FuelCostCalculator(\n",
    "    tank_size=40.0,\n",
    "    distance_on_tank=500.0,\n",
    "    fuel_cost=24.51,\n",
    "    base_currency=\"ZAR\"\n",
    ")"
   ]
  },
  {
   "cell_type": "code",
   "execution_count": 3,
   "metadata": {},
   "outputs": [
    {
     "name": "stdout",
     "output_type": "stream",
     "text": [
      "Cost per km: ZAR 1.96\n"
     ]
    }
   ],
   "source": [
    "cost = calc.calculate_cost_per_km()\n",
    "print(f\"Cost per km: {calc.base_currency} {round(cost, 2)}\")"
   ]
  },
  {
   "cell_type": "code",
   "execution_count": null,
   "metadata": {},
   "outputs": [],
   "source": []
  }
 ],
 "metadata": {
  "kernelspec": {
   "display_name": "Python 3.9.13 ('py39-lean')",
   "language": "python",
   "name": "python3"
  },
  "language_info": {
   "codemirror_mode": {
    "name": "ipython",
    "version": 3
   },
   "file_extension": ".py",
   "mimetype": "text/x-python",
   "name": "python",
   "nbconvert_exporter": "python",
   "pygments_lexer": "ipython3",
   "version": "3.9.13"
  },
  "orig_nbformat": 4,
  "vscode": {
   "interpreter": {
    "hash": "3064929f67b0afe297f894f3c723b4f5bbd6c9de31e83a0a5be6076ebefcf2f0"
   }
  }
 },
 "nbformat": 4,
 "nbformat_minor": 2
}
